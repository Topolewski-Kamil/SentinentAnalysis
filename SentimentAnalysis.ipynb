{
  "nbformat": 4,
  "nbformat_minor": 0,
  "metadata": {
    "colab": {
      "name": "SentimentAnalysis.ipynb",
      "provenance": [],
      "collapsed_sections": []
    },
    "kernelspec": {
      "name": "python3",
      "display_name": "Python 3"
    },
    "language_info": {
      "name": "python"
    }
  },
  "cells": [
    {
      "cell_type": "markdown",
      "metadata": {
        "id": "_Q8fPmnLUdd-"
      },
      "source": [
        "**Sentiment Analysis of Movie Reviews**"
      ]
    },
    {
      "cell_type": "code",
      "metadata": {
        "id": "8PFLZ9zvUg0E",
        "colab": {
          "base_uri": "https://localhost:8080/"
        },
        "outputId": "c53fc3c5-5361-428e-d19b-221c0b568e3d"
      },
      "source": [
        "from __future__ import division\n",
        "from collections import Counter # Counter() is a dict for counting\n",
        "from collections import defaultdict\n",
        "from numpy import mean\n",
        "import numpy as np\n",
        "import pandas as pd\n",
        "import nltk\n",
        "nltk.download('punkt')"
      ],
      "execution_count": null,
      "outputs": [
        {
          "output_type": "stream",
          "name": "stdout",
          "text": [
            "[nltk_data] Downloading package punkt to /root/nltk_data...\n",
            "[nltk_data]   Package punkt is already up-to-date!\n"
          ]
        },
        {
          "output_type": "execute_result",
          "data": {
            "text/plain": [
              "True"
            ]
          },
          "metadata": {},
          "execution_count": 21
        }
      ]
    },
    {
      "cell_type": "markdown",
      "metadata": {
        "id": "6v39HpW6nxgy"
      },
      "source": [
        "Load train set"
      ]
    },
    {
      "cell_type": "code",
      "metadata": {
        "id": "XMyH4Hj4WbpS"
      },
      "source": [
        "train = pd.read_csv(\"train.tsv\", sep='\\t', index_col=0)\n",
        "train['Phrase'] = train['Phrase'].str.lower()  # change to lowercase\n",
        "train[\"Phrase\"] = train['Phrase'].str.replace('[,.:;\\'`-]','')"
      ],
      "execution_count": null,
      "outputs": []
    },
    {
      "cell_type": "markdown",
      "metadata": {
        "id": "2A_uV4KInzWC"
      },
      "source": [
        "Change to three values sentiment and count pos, neu, neg occurances"
      ]
    },
    {
      "cell_type": "code",
      "metadata": {
        "id": "8Ut5aqX7o8Og"
      },
      "source": [
        "positive_count = 0\n",
        "neutral_count = 0\n",
        "negative_count = 0\n",
        "def threeValueSentiment(ar):\n",
        "  global positive_count\n",
        "  global neutral_count\n",
        "  global negative_count\n",
        "  if ar['Sentiment'] == 0 or ar['Sentiment'] == 1:\n",
        "    negative_count += 1 \n",
        "    return 0\n",
        "  elif ar['Sentiment'] == 2:\n",
        "    neutral_count += 1 \n",
        "    return 1\n",
        "  elif ar['Sentiment'] == 3 or ar['Sentiment'] == 4:\n",
        "    positive_count += 1 \n",
        "    return 2\n",
        "  else: \n",
        "    return -1\n",
        "train['Sentiment'] = train.apply(threeValueSentiment, axis=1)"
      ],
      "execution_count": null,
      "outputs": []
    },
    {
      "cell_type": "markdown",
      "metadata": {
        "id": "UBKg3DWhzuUy"
      },
      "source": [
        "Posterior probabilites for 3 sentiment"
      ]
    },
    {
      "cell_type": "code",
      "metadata": {
        "id": "if7-FS39dcH0"
      },
      "source": [
        "def posterior_probabilities():\n",
        "  posterior_positive = positive_count / train.shape[0]\n",
        "  posterior_neutral = neutral_count / train.shape[0]\n",
        "  posterior_negative = negative_count/ train.shape[0]\n",
        "  return posterior_positive, posterior_neutral, posterior_negative\n",
        "\n",
        "posterior_positive, posterior_neutral, posterior_negative = posterior_probabilities()"
      ],
      "execution_count": null,
      "outputs": []
    },
    {
      "cell_type": "markdown",
      "metadata": {
        "id": "gN_47gJq0Gsu"
      },
      "source": [
        "Create features dictionary"
      ]
    },
    {
      "cell_type": "code",
      "metadata": {
        "id": "VU7ofFPI0Kv9"
      },
      "source": [
        "like_pos = Counter(); # Occurrence counts\n",
        "like_neu = Counter(); # Occurrence counts\n",
        "like_neg = Counter(); # Occurrence counts\n",
        "\n",
        "N = len(train)\n",
        "pos_count = 0\n",
        "neu_count = 0\n",
        "neg_count = 0\n",
        "\n",
        "vocabulary = set()\n",
        "\n",
        "for tweet, sentiment in train.itertuples(index=False):\n",
        "    words = tweet.strip().split()\n",
        "    if sentiment == 2:\n",
        "      occ_counts = like_pos\n",
        "      pos_count += len(words)\n",
        "    elif sentiment == 1:\n",
        "      occ_counts = like_neu\n",
        "      neu_count += len(words)\n",
        "    elif sentiment == 0:\n",
        "      occ_counts = like_neg\n",
        "      neg_count += len(words)\n",
        "\n",
        "    for word in words:\n",
        "      occ_counts[word] += 1 # Store occurence counts for all words\n",
        "      vocabulary.add(word)"
      ],
      "execution_count": null,
      "outputs": []
    },
    {
      "cell_type": "markdown",
      "metadata": {
        "id": "k0WMEwHm3ifW"
      },
      "source": [
        "Likelihoods for features"
      ]
    },
    {
      "cell_type": "code",
      "metadata": {
        "id": "vEf3-Dp-3W61"
      },
      "source": [
        "vocab_len = len(vocabulary)\n",
        "def calculate_likelihoods(ar, n):\n",
        "  for word in ar:\n",
        "    ar[word] = (ar[word] + 1)/ (n + vocab_len)\n",
        "\n",
        "calculate_likelihoods(like_pos, pos_count)\n",
        "calculate_likelihoods(like_neu, neu_count)\n",
        "calculate_likelihoods(like_neg, neg_count)\n",
        "\n",
        "def calculate_default_likelihoods(n):\n",
        "    return 1/(n + vocab_len)\n",
        "\n",
        "default_like_pos = calculate_default_likelihoods(pos_count)\n",
        "default_like_neu = calculate_default_likelihoods(neu_count)\n",
        "default_like_neg = calculate_default_likelihoods(neg_count)\n"
      ],
      "execution_count": null,
      "outputs": []
    },
    {
      "cell_type": "markdown",
      "metadata": {
        "id": "0dhGFmHOKQxM"
      },
      "source": [
        "Load dev set"
      ]
    },
    {
      "cell_type": "code",
      "metadata": {
        "id": "-AhqzIqEKYuV"
      },
      "source": [
        "dev = pd.read_csv(\"dev.tsv\", sep='\\t', index_col=0)\n",
        "dev['Phrase'] = dev['Phrase'].str.lower()  # change to lowercase\n",
        "dev[\"Phrase\"] = dev['Phrase'].str.replace('[,.:;\\'`-]','')"
      ],
      "execution_count": null,
      "outputs": []
    },
    {
      "cell_type": "markdown",
      "metadata": {
        "id": "GIMGb7NQNFq8"
      },
      "source": [
        "Transform to dictionary"
      ]
    },
    {
      "cell_type": "code",
      "metadata": {
        "id": "kQuXayVkNJ1y"
      },
      "source": [
        "result = []\n",
        "for id, tweet, s in dev.itertuples():\n",
        "  words = tweet.strip().split()\n",
        "  result_pos = posterior_positive\n",
        "  result_neu = posterior_neutral\n",
        "  result_neg = posterior_negative\n",
        "  for token in words:\n",
        "    if token in like_pos:\n",
        "      result_pos *= like_pos[token]\n",
        "    else:\n",
        "      result_pos *= default_like_pos\n",
        "    if token in like_neu: \n",
        "      result_neu *= like_neu[token]\n",
        "    else:\n",
        "      result_neu *= default_like_neu\n",
        "    if token in like_neg: \n",
        "      result_neg *= like_neg[token]\n",
        "    else:\n",
        "      result_neg *= default_like_neg\n",
        "\n",
        "  if (result_pos > result_neg):\n",
        "    result.append([id, 2])\n",
        "  elif (result_pos < result_neg):\n",
        "    result.append([id, 0])\n",
        "  else:\n",
        "    result.append([id, 1])"
      ],
      "execution_count": null,
      "outputs": []
    },
    {
      "cell_type": "code",
      "metadata": {
        "id": "bvJEOQZGfOyL"
      },
      "source": [
        "result_df = pd.DataFrame(result, columns=['SentenceId', 'Sentiment'])\n",
        "result_df.set_index('SentenceId', inplace=True)\n",
        "result_df.to_csv('result', sep='\\t')"
      ],
      "execution_count": null,
      "outputs": []
    },
    {
      "cell_type": "markdown",
      "metadata": {
        "id": "NbPFL72Z0LvB"
      },
      "source": [
        "Evaluate"
      ]
    },
    {
      "cell_type": "code",
      "metadata": {
        "id": "IE6VEukB0Nic"
      },
      "source": [
        "dev_real = []\n",
        "for id, tweet, s in dev.itertuples():\n",
        "  dev_real.append([id, s])\n",
        "\n",
        "dev_df = pd.DataFrame(dev_real, columns=['SentenceId', 'Sentiment'])\n",
        "dev_df.set_index('SentenceId', inplace=True)"
      ],
      "execution_count": null,
      "outputs": []
    },
    {
      "cell_type": "code",
      "metadata": {
        "id": "FCCBWP0p1CS9"
      },
      "source": [
        "def threeValueSentimentDev(ar):\n",
        "  if ar['Sentiment'] == 0 or ar['Sentiment'] == 1:\n",
        "    return 0\n",
        "  elif ar['Sentiment'] == 2:\n",
        "    return 1\n",
        "  elif ar['Sentiment'] == 3 or ar['Sentiment'] == 4:\n",
        "    return 2\n",
        "  else: \n",
        "    return -1\n",
        "dev_df['Sentiment'] = dev_df.apply(threeValueSentimentDev, axis=1)"
      ],
      "execution_count": null,
      "outputs": []
    },
    {
      "cell_type": "code",
      "metadata": {
        "colab": {
          "base_uri": "https://localhost:8080/"
        },
        "id": "1V0nvdsH05lu",
        "outputId": "6dcd52c1-49bd-4c8b-c8ba-bf0d9c4404a7"
      },
      "source": [
        "correct = 0\n",
        "incorrect = 0\n",
        "for id, s in dev_df.itertuples():\n",
        "  if dev_df.loc[id, 'Sentiment'] == result_df.loc[id, 'Sentiment']:\n",
        "    correct += 1\n",
        "  else:\n",
        "    incorrect += 1\n",
        "correct"
      ],
      "execution_count": null,
      "outputs": [
        {
          "output_type": "execute_result",
          "data": {
            "text/plain": [
              "659"
            ]
          },
          "metadata": {},
          "execution_count": 34
        }
      ]
    }
  ]
}