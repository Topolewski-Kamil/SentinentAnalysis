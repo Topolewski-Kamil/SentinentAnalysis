{
  "nbformat": 4,
  "nbformat_minor": 0,
  "metadata": {
    "colab": {
      "name": "SentimentAnalysis.ipynb",
      "provenance": [],
      "collapsed_sections": []
    },
    "kernelspec": {
      "name": "python3",
      "display_name": "Python 3"
    },
    "language_info": {
      "name": "python"
    }
  },
  "cells": [
    {
      "cell_type": "markdown",
      "metadata": {
        "id": "_Q8fPmnLUdd-"
      },
      "source": [
        "**Sentiment Analysis of Movie Reviews**"
      ]
    },
    {
      "cell_type": "code",
      "metadata": {
        "id": "8PFLZ9zvUg0E",
        "colab": {
          "base_uri": "https://localhost:8080/"
        },
        "outputId": "8bbc1364-80c6-4970-bb3d-13571149e3f5"
      },
      "source": [
        "from __future__ import division\n",
        "from collections import Counter # Counter() is a dict for counting\n",
        "from collections import defaultdict\n",
        "from numpy import mean\n",
        "import numpy as np\n",
        "import pandas as pd\n",
        "import nltk\n",
        "from nltk.corpus import stopwords\n",
        "import spacy\n",
        "nltk.download('stopwords')\n",
        "nltk.download('punkt')\n",
        "nltk.download('wordnet')"
      ],
      "execution_count": 1,
      "outputs": [
        {
          "output_type": "stream",
          "name": "stdout",
          "text": [
            "[nltk_data] Downloading package stopwords to /root/nltk_data...\n",
            "[nltk_data]   Package stopwords is already up-to-date!\n",
            "[nltk_data] Downloading package punkt to /root/nltk_data...\n",
            "[nltk_data]   Package punkt is already up-to-date!\n",
            "[nltk_data] Downloading package wordnet to /root/nltk_data...\n",
            "[nltk_data]   Package wordnet is already up-to-date!\n"
          ]
        },
        {
          "output_type": "execute_result",
          "data": {
            "text/plain": [
              "True"
            ]
          },
          "metadata": {},
          "execution_count": 1
        }
      ]
    },
    {
      "cell_type": "markdown",
      "metadata": {
        "id": "6v39HpW6nxgy"
      },
      "source": [
        "Load train set"
      ]
    },
    {
      "cell_type": "code",
      "metadata": {
        "id": "XMyH4Hj4WbpS"
      },
      "source": [
        "train = pd.read_csv(\"train.tsv\", sep='\\t', index_col=0)\n",
        "train['Phrase'] = train['Phrase'].str.lower()  # change to lowercase\n",
        "train['Phrase'] = train['Phrase'].str.replace('[,.:;\\'`-]','', regex=True)\n",
        "\n",
        "stop_words = set(stopwords.words('english'))\n",
        "# train['Phrase']= train['Phrase'].apply(lambda x: ' '.join([word for word in x.split() if word not in (stop_words)]))"
      ],
      "execution_count": 2,
      "outputs": []
    },
    {
      "cell_type": "code",
      "metadata": {
        "id": "IahNRGjgjLws"
      },
      "source": [
        "w_tokenizer = nltk.tokenize.WhitespaceTokenizer()\n",
        "lemmatizer = nltk.stem.WordNetLemmatizer()\n",
        "\n",
        "def lemmatize_text(text):\n",
        "    return ' '.join([lemmatizer.lemmatize(w) for w in text.split(' ')])\n",
        "\n",
        "train['Phrase'] = train.Phrase.apply(lemmatize_text)"
      ],
      "execution_count": 3,
      "outputs": []
    },
    {
      "cell_type": "markdown",
      "metadata": {
        "id": "2A_uV4KInzWC"
      },
      "source": [
        "Count class occurances"
      ]
    },
    {
      "cell_type": "code",
      "metadata": {
        "id": "8Ut5aqX7o8Og"
      },
      "source": [
        "negative_count = train[train.Sentiment == 0].shape[0]\n",
        "some_negative_count = train[train.Sentiment == 1].shape[0]\n",
        "neutral_count = train[train.Sentiment == 2].shape[0]\n",
        "some_positive_count = train[train.Sentiment == 3].shape[0]\n",
        "positive_count = train[train.Sentiment == 4].shape[0]"
      ],
      "execution_count": 4,
      "outputs": []
    },
    {
      "cell_type": "markdown",
      "metadata": {
        "id": "UBKg3DWhzuUy"
      },
      "source": [
        "Posterior probabilites for 3 sentiment"
      ]
    },
    {
      "cell_type": "code",
      "metadata": {
        "id": "if7-FS39dcH0"
      },
      "source": [
        "def posterior_probabilities():\n",
        "  negative = negative_count/ train.shape[0]\n",
        "  som_negative = some_negative_count/ train.shape[0]\n",
        "  neutral = neutral_count / train.shape[0]\n",
        "  som_positive = some_positive_count / train.shape[0]\n",
        "  positive = positive_count / train.shape[0]\n",
        "  return negative, som_negative, neutral, som_positive, positive\n",
        "\n",
        "posterior_negative, posterior_som_negative, posterior_neutral, posterior_som_positive, posterior_positive  = posterior_probabilities()"
      ],
      "execution_count": 5,
      "outputs": []
    },
    {
      "cell_type": "markdown",
      "metadata": {
        "id": "gN_47gJq0Gsu"
      },
      "source": [
        "Create features dictionary"
      ]
    },
    {
      "cell_type": "code",
      "metadata": {
        "id": "VU7ofFPI0Kv9"
      },
      "source": [
        "# Dictionaries to keep word occurances for each class\n",
        "like_neg = Counter(); \n",
        "like_som_neg = Counter();\n",
        "like_neu = Counter(); \n",
        "like_som_pos = Counter(); \n",
        "like_pos = Counter();\n",
        "\n",
        "# Word counters for each class\n",
        "neg_count = 0\n",
        "som_neg_count = 0\n",
        "neu_count = 0\n",
        "som_pos_count = 0\n",
        "pos_count = 0\n",
        "\n",
        "vocabulary = set()\n",
        "\n",
        "for tweet, sentiment in train.itertuples(index=False):\n",
        "    words = tweet.strip().split()\n",
        "    if sentiment == 0:\n",
        "      occ_counts = like_neg\n",
        "      neg_count += len(words)\n",
        "    elif sentiment == 1:\n",
        "      occ_counts = like_som_neg\n",
        "      som_neg_count += len(words)\n",
        "    elif sentiment == 2:\n",
        "      occ_counts = like_neu\n",
        "      neu_count += len(words)\n",
        "    elif sentiment == 3:\n",
        "      occ_counts = like_som_pos\n",
        "      som_pos_count += len(words)\n",
        "    elif sentiment == 4:\n",
        "      occ_counts = like_pos\n",
        "      pos_count += len(words)\n",
        "\n",
        "    for word in words:\n",
        "      occ_counts[word] += 1 # Store occurence counts for all words\n",
        "      vocabulary.add(word)"
      ],
      "execution_count": 6,
      "outputs": []
    },
    {
      "cell_type": "markdown",
      "metadata": {
        "id": "k0WMEwHm3ifW"
      },
      "source": [
        "Likelihoods for features (dont run multiple times)"
      ]
    },
    {
      "cell_type": "code",
      "metadata": {
        "id": "vEf3-Dp-3W61"
      },
      "source": [
        "vocab_len = len(vocabulary)\n",
        "def calculate_likelihoods(ar, n):\n",
        "  for word in ar:\n",
        "    ar[word] = (ar[word] + 1)/ (n + vocab_len)\n",
        "\n",
        "calculate_likelihoods(like_neg, neg_count)\n",
        "calculate_likelihoods(like_som_neg, som_neg_count)\n",
        "calculate_likelihoods(like_neu, neu_count)\n",
        "calculate_likelihoods(like_som_pos, som_pos_count)\n",
        "calculate_likelihoods(like_pos, pos_count)\n",
        "\n",
        "def calculate_default_likelihoods(n):\n",
        "    return 1/(n + vocab_len)\n",
        "\n",
        "default_like_neg = calculate_default_likelihoods(neg_count)\n",
        "default_like_som_neg = calculate_default_likelihoods(som_neg_count)\n",
        "default_like_neu = calculate_default_likelihoods(neu_count)\n",
        "default_like_som_pos = calculate_default_likelihoods(som_pos_count)\n",
        "default_like_pos = calculate_default_likelihoods(pos_count)"
      ],
      "execution_count": 7,
      "outputs": []
    },
    {
      "cell_type": "markdown",
      "metadata": {
        "id": "0dhGFmHOKQxM"
      },
      "source": [
        "Load dev set"
      ]
    },
    {
      "cell_type": "code",
      "metadata": {
        "id": "-AhqzIqEKYuV"
      },
      "source": [
        "dev = pd.read_csv(\"dev.tsv\", sep='\\t', index_col=0)\n",
        "dev['Phrase'] = dev['Phrase'].str.lower()  # change to lowercase\n",
        "dev[\"Phrase\"] = dev['Phrase'].str.replace('[,.:;\\'`-]','', regex=True)"
      ],
      "execution_count": 8,
      "outputs": []
    },
    {
      "cell_type": "markdown",
      "metadata": {
        "id": "GIMGb7NQNFq8"
      },
      "source": [
        "Use model on dev set"
      ]
    },
    {
      "cell_type": "code",
      "metadata": {
        "id": "kQuXayVkNJ1y"
      },
      "source": [
        "result = []\n",
        "for id, tweet, s in dev.itertuples():\n",
        "  words = tweet.strip().split()\n",
        "  result_neg = posterior_negative\n",
        "  result_som_neg = posterior_som_negative  \n",
        "  result_neu = posterior_neutral\n",
        "  result_pos = posterior_positive\n",
        "  result_som_pos = posterior_som_positive\n",
        "\n",
        "  def calculate_final_posterior(ar, token, default):\n",
        "    if token in ar:\n",
        "      return ar[token]\n",
        "    else:\n",
        "      return default\n",
        "\n",
        "  for token in words:\n",
        "\n",
        "    result_pos *= calculate_final_posterior(like_pos, token, default_like_pos)\n",
        "    result_som_pos *= calculate_final_posterior(like_som_pos, token, default_like_som_pos)\n",
        "    result_neu *= calculate_final_posterior(like_neu, token, default_like_neu)\n",
        "    result_som_neg *= calculate_final_posterior(like_som_neg, token, default_like_som_neg)\n",
        "    result_neg *= calculate_final_posterior(like_neg, token, default_like_neg)\n",
        "\n",
        "  score_max = max(result_neg, result_som_neg, result_neu, result_som_pos, result_pos)\n",
        "\n",
        "  if (score_max == result_neg):\n",
        "    result.append([id, 0])\n",
        "  elif (score_max == result_som_neg):\n",
        "    result.append([id, 1])\n",
        "  elif (score_max == result_neu):\n",
        "    result.append([id, 2])\n",
        "  elif (score_max == result_som_pos):\n",
        "    result.append([id, 3])\n",
        "  elif (score_max == result_pos):\n",
        "    result.append([id, 4])"
      ],
      "execution_count": 9,
      "outputs": []
    },
    {
      "cell_type": "markdown",
      "metadata": {
        "id": "B3Tifal4SmYg"
      },
      "source": [
        "Write to result file"
      ]
    },
    {
      "cell_type": "code",
      "metadata": {
        "id": "bvJEOQZGfOyL"
      },
      "source": [
        "result_df = pd.DataFrame(result, columns=['SentenceId', 'Sentiment'])\n",
        "result_df.set_index('SentenceId', inplace=True)\n",
        "result_df.to_csv('result.tsv', sep='\\t')"
      ],
      "execution_count": 10,
      "outputs": []
    },
    {
      "cell_type": "markdown",
      "metadata": {
        "id": "NbPFL72Z0LvB"
      },
      "source": [
        "Evaluate"
      ]
    },
    {
      "cell_type": "code",
      "metadata": {
        "id": "IE6VEukB0Nic"
      },
      "source": [
        "dev_real = []\n",
        "for id, tweet, s in dev.itertuples():\n",
        "  dev_real.append([id, s])\n",
        "\n",
        "dev_df = pd.DataFrame(dev_real, columns=['SentenceId', 'Sentiment'])\n",
        "dev_df.set_index('SentenceId', inplace=True)"
      ],
      "execution_count": 11,
      "outputs": []
    },
    {
      "cell_type": "markdown",
      "metadata": {
        "id": "ve9-F75o3dHk"
      },
      "source": [
        "Macro-F1"
      ]
    },
    {
      "cell_type": "code",
      "metadata": {
        "id": "soNvUs2o3b4R",
        "colab": {
          "base_uri": "https://localhost:8080/"
        },
        "outputId": "46f526d4-2dfc-4629-b060-2e316df386c2"
      },
      "source": [
        "def calculate_tp_fp_fn(sentiment):\n",
        "  tp = fp = fn = 0 \n",
        "  for id, s in dev_df[dev_df.Sentiment == sentiment].itertuples():\n",
        "      if s == result_df.loc[id, 'Sentiment']:\n",
        "        tp += 1\n",
        "      else:\n",
        "        fp += 1\n",
        "  fn = result_df[result_df.Sentiment == sentiment].shape[0] - tp\n",
        "  return tp, fp, fn\n",
        "\n",
        "def calculate_f1(sentiment):\n",
        "  tp, fp, fn = calculate_tp_fp_fn(sentiment)\n",
        "  f1 = (2 * tp) / (2 * tp + fp + fn)\n",
        "  return f1\n",
        "\n",
        "def calculate_macro_f1():\n",
        "  m_f1 = 1\n",
        "  for i in range (0,5):\n",
        "    m_f1 += calculate_f1(i)\n",
        "  \n",
        "  return m_f1/5\n",
        "\n",
        "calculate_macro_f1()"
      ],
      "execution_count": 12,
      "outputs": [
        {
          "output_type": "execute_result",
          "data": {
            "text/plain": [
              "0.5039077608357471"
            ]
          },
          "metadata": {},
          "execution_count": 12
        }
      ]
    },
    {
      "cell_type": "code",
      "metadata": {
        "colab": {
          "base_uri": "https://localhost:8080/"
        },
        "id": "1V0nvdsH05lu",
        "outputId": "b96660ca-7684-47fa-b439-c2ebff288b4e"
      },
      "source": [
        "correct = 0\n",
        "incorrect = 0\n",
        "for id, s in dev_df.itertuples():\n",
        "  if s == result_df.loc[id, 'Sentiment']:\n",
        "    correct += 1\n",
        "  else:\n",
        "    incorrect += 1\n",
        "print(incorrect)"
      ],
      "execution_count": 13,
      "outputs": [
        {
          "output_type": "stream",
          "name": "stdout",
          "text": [
            "690\n"
          ]
        }
      ]
    },
    {
      "cell_type": "code",
      "metadata": {
        "id": "u67AsA_3hhHc"
      },
      "source": [
        "# https://www.researchgate.net/publication/306364792_On_stopwords_filtering_and_data_sparsity_for_sentiment_analysis_of_twitter"
      ],
      "execution_count": 14,
      "outputs": []
    }
  ]
}